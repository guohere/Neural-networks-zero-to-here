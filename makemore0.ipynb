{
  "nbformat": 4,
  "nbformat_minor": 0,
  "metadata": {
    "colab": {
      "provenance": [],
      "toc_visible": true,
      "authorship_tag": "ABX9TyPo8mLEqdInlyDPOu17+b0o",
      "include_colab_link": true
    },
    "kernelspec": {
      "name": "python3",
      "display_name": "Python 3"
    },
    "language_info": {
      "name": "python"
    }
  },
  "cells": [
    {
      "cell_type": "markdown",
      "metadata": {
        "id": "view-in-github",
        "colab_type": "text"
      },
      "source": [
        "<a href=\"https://colab.research.google.com/github/guohere/Neural-networks-zero-to-here/blob/main/makemore0.ipynb\" target=\"_parent\"><img src=\"https://colab.research.google.com/assets/colab-badge.svg\" alt=\"Open In Colab\"/></a>"
      ]
    },
    {
      "cell_type": "code",
      "execution_count": null,
      "metadata": {
        "id": "dXXUtvNDB_Af"
      },
      "outputs": [],
      "source": [
        "!mkdir makemore0"
      ]
    },
    {
      "cell_type": "code",
      "source": [
        "%pwd\n"
      ],
      "metadata": {
        "colab": {
          "base_uri": "https://localhost:8080/",
          "height": 35
        },
        "id": "CtYosSrzOU-8",
        "outputId": "092fa7d5-3787-4b35-a15f-095273957d95"
      },
      "execution_count": 2,
      "outputs": [
        {
          "output_type": "execute_result",
          "data": {
            "text/plain": [
              "'/content'"
            ],
            "application/vnd.google.colaboratory.intrinsic+json": {
              "type": "string"
            }
          },
          "metadata": {},
          "execution_count": 2
        }
      ]
    },
    {
      "cell_type": "code",
      "source": [
        "words = open('makemore0/names.txt', 'r').read().splitlines()"
      ],
      "metadata": {
        "id": "RkRG5x0HOZ2T"
      },
      "execution_count": 4,
      "outputs": []
    },
    {
      "cell_type": "code",
      "source": [
        "for w in words[:3]:\n",
        "    chs = ['<S>'] + list(w) + ['<E>']\n",
        "    for ch1, ch2 in zip(chs, chs[1:]):\n",
        "        print(ch1, ch2)"
      ],
      "metadata": {
        "colab": {
          "base_uri": "https://localhost:8080/"
        },
        "id": "_sNHuYVFOiSL",
        "outputId": "a7e26f56-be3b-4b84-f557-ba2ce3f4f7eb"
      },
      "execution_count": 5,
      "outputs": [
        {
          "output_type": "stream",
          "name": "stdout",
          "text": [
            "<S> e\n",
            "e m\n",
            "m m\n",
            "m a\n",
            "a <E>\n",
            "<S> o\n",
            "o l\n",
            "l i\n",
            "i v\n",
            "v i\n",
            "i a\n",
            "a <E>\n",
            "<S> a\n",
            "a v\n",
            "v a\n",
            "a <E>\n"
          ]
        }
      ]
    }
  ]
}